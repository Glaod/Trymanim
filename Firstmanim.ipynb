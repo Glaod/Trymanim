{
 "cells": [
  {
   "cell_type": "code",
   "execution_count": 1,
   "id": "9242c88f-5926-43be-9223-34eb6c1de9bb",
   "metadata": {},
   "outputs": [],
   "source": [
    "from manim import *\n",
    "\n",
    "config.media_width = \"75%\"\n",
    "config.verbosity = \"WARNING\""
   ]
  },
  {
   "cell_type": "code",
   "execution_count": 16,
   "id": "a4a117f5-0841-4cc1-998a-0efde15956ef",
   "metadata": {},
   "outputs": [
    {
     "data": {
      "text/html": [
       "<pre style=\"white-space:pre;overflow-x:auto;line-height:normal;font-family:Menlo,'DejaVu Sans Mono',consolas,'Courier New',monospace\">Manim Community <span style=\"color: #008000; text-decoration-color: #008000\">v0.18.1</span>\n",
       "\n",
       "</pre>\n"
      ],
      "text/plain": [
       "Manim Community \u001b[32mv0.\u001b[0m\u001b[32m18.1\u001b[0m\n",
       "\n"
      ]
     },
     "metadata": {},
     "output_type": "display_data"
    },
    {
     "name": "stderr",
     "output_type": "stream",
     "text": [
      "                                                                                        \r"
     ]
    },
    {
     "data": {
      "text/html": [
       "<video src=\"media/jupyter/Myscene@2024-10-31@05-21-56.mp4\" controls autoplay loop style=\"max-width: 75%;\"  >\n",
       "      Your browser does not support the <code>video</code> element.\n",
       "    </video>"
      ],
      "text/plain": [
       "<IPython.core.display.Video object>"
      ]
     },
     "metadata": {},
     "output_type": "display_data"
    }
   ],
   "source": [
    "%%manim -qm Myscene\n",
    "\n",
    "class Myscene(Scene):\n",
    "    def construct(self):\n",
    "        cir = Circle(\n",
    "            radius = 2.0,\n",
    "            fill_opacity = 0.5,\n",
    "            fill_color = 'YELLOW',\n",
    "            stroke_color = 'WHITE',\n",
    "            stroke_width = 1.5,\n",
    "        )\n",
    "        self.play(\n",
    "            DrawBorderThenFill(cir),\n",
    "            run_time = 3\n",
    "        )"
   ]
  },
  {
   "cell_type": "code",
   "execution_count": 20,
   "id": "23bcce7b-facd-4f29-961a-6dd7ed0c4175",
   "metadata": {},
   "outputs": [
    {
     "data": {
      "text/html": [
       "<pre style=\"white-space:pre;overflow-x:auto;line-height:normal;font-family:Menlo,'DejaVu Sans Mono',consolas,'Courier New',monospace\">Manim Community <span style=\"color: #008000; text-decoration-color: #008000\">v0.18.1</span>\n",
       "\n",
       "</pre>\n"
      ],
      "text/plain": [
       "Manim Community \u001b[32mv0.\u001b[0m\u001b[32m18.1\u001b[0m\n",
       "\n"
      ]
     },
     "metadata": {},
     "output_type": "display_data"
    },
    {
     "name": "stderr",
     "output_type": "stream",
     "text": [
      "                                                                                      \r"
     ]
    },
    {
     "data": {
      "text/html": [
       "<video src=\"media/jupyter/Mysqare@2024-10-31@05-26-23.mp4\" controls autoplay loop style=\"max-width: 75%;\"  >\n",
       "      Your browser does not support the <code>video</code> element.\n",
       "    </video>"
      ],
      "text/plain": [
       "<IPython.core.display.Video object>"
      ]
     },
     "metadata": {},
     "output_type": "display_data"
    }
   ],
   "source": [
    "%%manim -qm Mysqare\n",
    "\n",
    "class Mysqare(Scene):\n",
    "    def construct(self):\n",
    "        sq = Square(\n",
    "            side_length = 2.0,\n",
    "            fill_opacity = 1.0,\n",
    "            fill_color = 'TEAL',\n",
    "            stroke_color = 'WHITE',\n",
    "            stroke_width = 1.5,\n",
    "        )\n",
    "        self.play(\n",
    "            DrawBorderThenFill(sq),\n",
    "            run_time = 3\n",
    "        )\n",
    "        self.wait()\n",
    "        self.play(sq.animate.shift(0.5*LEFT+1.5*UP))\n",
    "        self.play(sq.animate.set_fill(ORANGE))\n",
    "        self.play(sq.animate.scale(1.5))\n",
    "        self.play(sq.animate.rotate(PI/4))\n",
    "        self.wait()"
   ]
  },
  {
   "cell_type": "code",
   "execution_count": null,
   "id": "a8ab7fa8-5fce-49c6-87f0-e4a1f66e89f7",
   "metadata": {},
   "outputs": [],
   "source": []
  }
 ],
 "metadata": {
  "kernelspec": {
   "display_name": "Python 3 (ipykernel)",
   "language": "python",
   "name": "python3"
  },
  "language_info": {
   "codemirror_mode": {
    "name": "ipython",
    "version": 3
   },
   "file_extension": ".py",
   "mimetype": "text/x-python",
   "name": "python",
   "nbconvert_exporter": "python",
   "pygments_lexer": "ipython3",
   "version": "3.11.9"
  }
 },
 "nbformat": 4,
 "nbformat_minor": 5
}
