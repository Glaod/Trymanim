{
 "cells": [
  {
   "cell_type": "code",
   "execution_count": 1,
   "id": "af1aaadf-aa96-4562-b4e6-1c05b1a00065",
   "metadata": {},
   "outputs": [],
   "source": [
    "from manim import *\n",
    "\n",
    "config.media_width = \"75%\"\n",
    "config.verbosity = \"WARNING\""
   ]
  },
  {
   "cell_type": "code",
   "execution_count": 4,
   "id": "01cc2298-04e5-4135-8d52-00ff73f4c8a5",
   "metadata": {},
   "outputs": [
    {
     "data": {
      "text/html": [
       "<pre style=\"white-space:pre;overflow-x:auto;line-height:normal;font-family:Menlo,'DejaVu Sans Mono',consolas,'Courier New',monospace\">Manim Community <span style=\"color: #008000; text-decoration-color: #008000\">v0.18.1</span>\n",
       "\n",
       "</pre>\n"
      ],
      "text/plain": [
       "Manim Community \u001b[32mv0.\u001b[0m\u001b[32m18.1\u001b[0m\n",
       "\n"
      ]
     },
     "metadata": {},
     "output_type": "display_data"
    },
    {
     "name": "stderr",
     "output_type": "stream",
     "text": [
      "                                                                                                                                                     \r"
     ]
    },
    {
     "data": {
      "text/html": [
       "<video src=\"media/jupyter/Latexample@2024-10-31@15-13-16.mp4\" controls autoplay loop style=\"max-width: 75%;\"  >\n",
       "      Your browser does not support the <code>video</code> element.\n",
       "    </video>"
      ],
      "text/plain": [
       "<IPython.core.display.Video object>"
      ]
     },
     "metadata": {},
     "output_type": "display_data"
    }
   ],
   "source": [
    "%%manim -qh Latexample\n",
    "\n",
    "class Latexample(Scene):\n",
    "    def construct(self):\n",
    "        tx = Tex(r'The Wave Equation is look like this in 3 dimension')\n",
    "        tx.move_to(UP)\n",
    "        tx1 = MathTex(r'\\nabla^2\\psi = \\frac{1}{v^2}\\frac{\\partial^2\\psi }{\\partial t^2}')\n",
    "        tx1.next_to(tx, 2*DOWN)\n",
    "        tx2 = MathTex(r'\\left ( \\frac{\\partial^2 }{\\partial x^2}+\\frac{\\partial^2 }{\\partial y^2}+\\frac{\\partial^2 }{\\partial z^2} \\right )\\psi = \\frac{1}{v^2}\\frac{\\partial^2\\psi }{\\partial t^2} ')\n",
    "        tx2.next_to(tx, 2*DOWN)\n",
    "\n",
    "        tx3 = MathTex(r'\\frac{\\partial^2\\psi }{\\partial x^2}+\\frac{\\partial^2 \\psi}{\\partial y^2}+\\frac{\\partial^2 \\psi}{\\partial z^2} = \\frac{1}{v^2}\\frac{\\partial^2\\psi }{\\partial t^2}')\n",
    "        tx3.next_to(tx, 2*DOWN)\n",
    "        \n",
    "        self.play(Write(tx), run_time = 2)\n",
    "        self.wait()\n",
    "        self.play(Write(tx1), run_time = 2)\n",
    "        self.wait()\n",
    "        self.play(Transform(tx1, tx2), run_time = 1, rate_func = smooth)\n",
    "        self.wait()\n",
    "        self.play(Transform(tx1, tx3), run_time = 1, rate_func = smooth)\n",
    "        self.wait()\n",
    "        self.play(Unwrite(tx1), FadeOut(tx))\n",
    "        self.wait()\n",
    "        \n",
    "        tx4 = Tex(r'And the Solution is look like this in 1 dimension')\n",
    "        tx4.move_to(UP)\n",
    "        sol = MathTex(r'\\psi=Ae^{i\\left ( \\omega t-kx \\right )}')\n",
    "        sol.next_to(tx4, 2*DOWN)\n",
    "        \n",
    "        self.play(Write(tx4), run_time = 2)\n",
    "        self.play(Write(sol), run_time = 2)\n",
    "        self.wait()"
   ]
  },
  {
   "cell_type": "code",
   "execution_count": null,
   "id": "70194ab8-3e43-474c-a752-3bf5b994fdc7",
   "metadata": {},
   "outputs": [],
   "source": []
  }
 ],
 "metadata": {
  "kernelspec": {
   "display_name": "Python 3 (ipykernel)",
   "language": "python",
   "name": "python3"
  },
  "language_info": {
   "codemirror_mode": {
    "name": "ipython",
    "version": 3
   },
   "file_extension": ".py",
   "mimetype": "text/x-python",
   "name": "python",
   "nbconvert_exporter": "python",
   "pygments_lexer": "ipython3",
   "version": "3.11.9"
  }
 },
 "nbformat": 4,
 "nbformat_minor": 5
}
