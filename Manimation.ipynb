{
 "cells": [
  {
   "cell_type": "code",
   "execution_count": 2,
   "id": "dba7d41a-7551-4e81-ad02-93ec0807315e",
   "metadata": {},
   "outputs": [],
   "source": [
    "from manim import *\n",
    "\n",
    "config.media_width = \"75%\"\n",
    "config.verbosity = \"WARNING\""
   ]
  },
  {
   "cell_type": "code",
   "execution_count": 15,
   "id": "5483e2d8-d7e8-48e4-8d53-14bad37b33b8",
   "metadata": {},
   "outputs": [
    {
     "data": {
      "text/html": [
       "<pre style=\"white-space:pre;overflow-x:auto;line-height:normal;font-family:Menlo,'DejaVu Sans Mono',consolas,'Courier New',monospace\">Manim Community <span style=\"color: #008000; text-decoration-color: #008000\">v0.18.1</span>\n",
       "\n",
       "</pre>\n"
      ],
      "text/plain": [
       "Manim Community \u001b[32mv0.\u001b[0m\u001b[32m18.1\u001b[0m\n",
       "\n"
      ]
     },
     "metadata": {},
     "output_type": "display_data"
    },
    {
     "name": "stderr",
     "output_type": "stream",
     "text": [
      "                                                                                                       \r"
     ]
    },
    {
     "data": {
      "text/html": [
       "<video src=\"media/jupyter/NewScene@2024-10-31@00-21-45.mp4\" controls autoplay loop style=\"max-width: 75%;\"  >\n",
       "      Your browser does not support the <code>video</code> element.\n",
       "    </video>"
      ],
      "text/plain": [
       "<IPython.core.display.Video object>"
      ]
     },
     "metadata": {},
     "output_type": "display_data"
    }
   ],
   "source": [
    "%%manim -qm NewScene\n",
    "\n",
    "class NewScene(Scene):\n",
    "    def construct(self):\n",
    "        tx1 = Tex(r'Hello Everyone!')\n",
    "        tx1.scale(3)\n",
    "\n",
    "        self.play(Write(tx1), run_time = 2, rate_func = smooth)\n",
    "        self.wait()\n",
    "        self.play(FadeOut(tx1), rate_func = smooth)\n",
    "        self.wait()\n",
    "\n",
    "        tx2 = Tex(r'Today we visualize a nice function.')\n",
    "        tx2.scale(1.5)\n",
    "        \n",
    "        self.play(Write(tx2), run_time = 2, rate_func = smooth)\n",
    "        self.wait()\n",
    "        self.play(FadeOut(tx2), rate_func = smooth)\n",
    "        self.wait()\n",
    "        \n",
    "        cir = Circle(fill_color = 'RED',\n",
    "                    stroke_color = 'WHITE',\n",
    "                    stroke_width = 1.0)\n",
    "        cir.scale(2).set_opacity(1.0)\n",
    "        \n",
    "        txt1 = Text('Circle').next_to(cir, DOWN)\n",
    "        \n",
    "        self.play(DrawBorderThenFill(cir), run_time = 3, rate_func = smooth)\n",
    "        self.play(Write(txt1), rate_func = smooth)\n",
    "        self.wait()\n",
    "        \n",
    "        sq = Square(fill_color = 'BLUE',\n",
    "                   stroke_color = 'WHITE',\n",
    "                   stroke_width = 1.0)\n",
    "        sq.scale(2).set_opacity(1.0)\n",
    "        \n",
    "        txt2 = Text('Square').next_to(cir, DOWN)\n",
    "        \n",
    "        self.play(Transform(cir, sq), Transform(txt1, txt2),\n",
    "                 run_time = 3, rate_func = smooth)\n",
    "        self.wait()\n",
    "        self.play(FadeOut(cir, txt1), rate_func = smooth)\n",
    "        \n",
    "        end = Text('Thank you Everyone!').scale(1.5)\n",
    "        \n",
    "        self.play(Write(end), run_time = 2, rate_func = smooth)\n",
    "        self.wait()        "
   ]
  },
  {
   "cell_type": "code",
   "execution_count": null,
   "id": "de693e81-964e-41ac-8234-86bd59967e47",
   "metadata": {},
   "outputs": [],
   "source": []
  }
 ],
 "metadata": {
  "kernelspec": {
   "display_name": "Python 3 (ipykernel)",
   "language": "python",
   "name": "python3"
  },
  "language_info": {
   "codemirror_mode": {
    "name": "ipython",
    "version": 3
   },
   "file_extension": ".py",
   "mimetype": "text/x-python",
   "name": "python",
   "nbconvert_exporter": "python",
   "pygments_lexer": "ipython3",
   "version": "3.11.9"
  }
 },
 "nbformat": 4,
 "nbformat_minor": 5
}
