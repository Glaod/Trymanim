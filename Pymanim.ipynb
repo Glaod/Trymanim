{
 "cells": [
  {
   "cell_type": "code",
   "execution_count": 1,
   "id": "c5ff1414-82b9-41ec-b83e-d690dd569090",
   "metadata": {
    "editable": true,
    "slideshow": {
     "slide_type": ""
    },
    "tags": []
   },
   "outputs": [],
   "source": [
    "from manim import *\n",
    "\n",
    "config.media_width = \"100%\"\n",
    "config.verbosity = \"WARNING\""
   ]
  },
  {
   "cell_type": "code",
   "execution_count": 2,
   "id": "c06762da-f104-4b7d-9a89-e0239f58de69",
   "metadata": {
    "editable": true,
    "slideshow": {
     "slide_type": ""
    },
    "tags": []
   },
   "outputs": [
    {
     "data": {
      "text/html": [
       "<pre style=\"white-space:pre;overflow-x:auto;line-height:normal;font-family:Menlo,'DejaVu Sans Mono',consolas,'Courier New',monospace\">Manim Community <span style=\"color: #008000; text-decoration-color: #008000\">v0.18.1</span>\n",
       "\n",
       "</pre>\n"
      ],
      "text/plain": [
       "Manim Community \u001b[32mv0.\u001b[0m\u001b[32m18.1\u001b[0m\n",
       "\n"
      ]
     },
     "metadata": {},
     "output_type": "display_data"
    },
    {
     "name": "stderr",
     "output_type": "stream",
     "text": [
      "                                                                                    \r"
     ]
    },
    {
     "data": {
      "text/html": [
       "<video src=\"media/jupyter/PointMovingOnShapes@2024-10-30@14-52-52.mp4\" controls autoplay loop style=\"max-width: 100%;\"  >\n",
       "      Your browser does not support the <code>video</code> element.\n",
       "    </video>"
      ],
      "text/plain": [
       "<IPython.core.display.Video object>"
      ]
     },
     "metadata": {},
     "output_type": "display_data"
    }
   ],
   "source": [
    "%%manim -qm PointMovingOnShapes\n",
    "\n",
    "class PointMovingOnShapes(Scene):\n",
    "    def construct(self):\n",
    "        circle = Circle(radius=1, color=BLUE)\n",
    "        dot = Dot()\n",
    "        dot2 = dot.copy().shift(RIGHT)\n",
    "        self.add(dot)\n",
    "\n",
    "        line = Line([3, 0, 0], [5, 0, 0])\n",
    "        self.add(line)\n",
    "\n",
    "        self.play(GrowFromCenter(circle))\n",
    "        self.play(Transform(dot, dot2))\n",
    "        self.play(MoveAlongPath(dot, circle), run_time=2, rate_func=linear)\n",
    "        self.play(Rotating(dot, about_point=[2, 0, 0]), run_time=1.5)\n",
    "        self.wait()"
   ]
  },
  {
   "cell_type": "code",
   "execution_count": null,
   "id": "bdb046e5-d051-4092-b9cf-4a95a9b9c82a",
   "metadata": {},
   "outputs": [],
   "source": []
  }
 ],
 "metadata": {
  "kernelspec": {
   "display_name": "Python 3 (ipykernel)",
   "language": "python",
   "name": "python3"
  },
  "language_info": {
   "codemirror_mode": {
    "name": "ipython",
    "version": 3
   },
   "file_extension": ".py",
   "mimetype": "text/x-python",
   "name": "python",
   "nbconvert_exporter": "python",
   "pygments_lexer": "ipython3",
   "version": "3.11.9"
  }
 },
 "nbformat": 4,
 "nbformat_minor": 5
}
